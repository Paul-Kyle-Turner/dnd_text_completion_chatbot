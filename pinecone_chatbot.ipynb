{
 "cells": [
  {
   "cell_type": "markdown",
   "id": "e95fe1cc-5686-44dc-9acc-bf2a850a9b14",
   "metadata": {},
   "source": [
    "# TTRPG Chatbot\n",
    "\n",
    "Really this bot can easily be made into anything by changing the prompt slightly.  It works with pinecone to keep track of the conversation as it happens and retrieve the most useful bits of the conversation for the bot.  Note that I am saving a good amount (including the vector) to the json logs saved in the logs directory.\n",
    "\n",
    "Note that Chroma is running in memory.  Anytime that you restart the chatbot it is not expected to persist."
   ]
  },
  {
   "cell_type": "code",
   "execution_count": 1,
   "id": "bcacccc6-0f3a-4338-8a34-4b0818426e98",
   "metadata": {
    "tags": []
   },
   "outputs": [
    {
     "name": "stderr",
     "output_type": "stream",
     "text": [
      "C:\\Users\\turne\\AppData\\Local\\Packages\\PythonSoftwareFoundation.Python.3.9_qbz5n2kfra8p0\\LocalCache\\local-packages\\Python39\\site-packages\\pinecone\\index.py:4: TqdmExperimentalWarning: Using `tqdm.autonotebook.tqdm` in notebook mode. Use `tqdm.tqdm` instead to force console mode (e.g. in jupyter console)\n",
      "  from tqdm.autonotebook import tqdm\n",
      "Using embedded DuckDB with persistence: data will be stored in: ./chroma\n"
     ]
    }
   ],
   "source": [
    "import os\n",
    "from dotenv import load_dotenv\n",
    "load_dotenv()\n",
    "import time\n",
    "import datetime\n",
    "import json\n",
    "import re\n",
    "from tqdm.notebook import tqdm\n",
    "\n",
    "from PyPDF2 import PdfReader\n",
    "import pinecone\n",
    "import openai\n",
    "import chromadb\n",
    "from chromadb.config import Settings\n",
    "\n",
    "openai_api_key = os.getenv(\"OPENAI_API_KEY\")\n",
    "pinecone_api_key = os.getenv(\"PINECONE_API_KEY\")\n",
    "\n",
    "embedding_dimensions = 1536\n",
    "model_engine = \"text-embedding-ada-002\"\n",
    "pinecone_name = \"dnd-rules-lawyer\"\n",
    "pinecone_region = \"asia-southeast1-gcp\" # Pinecone calls this the environement ? strange\n",
    "\n",
    "pinecone.init(api_key=pinecone_api_key, environment=pinecone_region)\n",
    "index = pinecone.Index(pinecone_name)\n",
    "openai.api_key = openai_api_key\n",
    "\n",
    "pdf_directory = \"./pdfs/Rules\"\n",
    "bestiary_directory = \"./pdfs/Bestiary\"\n",
    "\n",
    "persistant_directory = \"./chroma\"\n",
    "client = chromadb.Client(Settings(chroma_db_impl=\"duckdb+parquet\", persist_directory=persistant_directory))\n",
    "collection_name = \"dnd_documents\"\n",
    "collection = None"
   ]
  },
  {
   "cell_type": "markdown",
   "id": "509b8871-b049-4ede-bbde-a108fc64c221",
   "metadata": {},
   "source": [
    "Below are the helper functions for using the chatbot.\n",
    "\n",
    "Beware the commented code.  It will delete your vector database."
   ]
  },
  {
   "cell_type": "markdown",
   "id": "f8829a13-c514-4e60-8dd2-5de85fad6d02",
   "metadata": {},
   "source": [
    "# Chroma Helper functions\n",
    "\n",
    "Beware the commented code.  It will delete your collection."
   ]
  },
  {
   "cell_type": "code",
   "execution_count": 2,
   "id": "635e7261-c3f1-47ca-9d74-69111212c344",
   "metadata": {
    "tags": []
   },
   "outputs": [],
   "source": [
    "#client.delete_collection(collection_name)"
   ]
  },
  {
   "cell_type": "code",
   "execution_count": 3,
   "id": "5b4ca05b-37fa-4990-9689-b8ff94010aeb",
   "metadata": {},
   "outputs": [],
   "source": [
    "def get_file_list(directory_path):\n",
    "    return [f for f in os.listdir(directory_path) if f.endswith(\".pdf\")]"
   ]
  },
  {
   "cell_type": "code",
   "execution_count": 4,
   "id": "b7acd17d-bb84-43a4-be55-b40e316113f0",
   "metadata": {},
   "outputs": [],
   "source": [
    "def build_key(page_index, sentence_index, prefix=None):\n",
    "    if prefix is not None:\n",
    "        return prefix + \"_p\" + str(page_index) + \"_s\" + str(sentence_index)\n",
    "    else:\n",
    "        return \"p\" + str(page_index) + \"_s\" + str(sentence_index)"
   ]
  },
  {
   "cell_type": "code",
   "execution_count": 5,
   "id": "b0c2e4cb-eb97-4cd9-b1f6-61385c80d2fc",
   "metadata": {},
   "outputs": [],
   "source": [
    "def tokenize_page_to_sentences(page, page_index, line_min_length=5, name_in_key=None):\n",
    "    sentences_tuples = list()\n",
    "    page_text = page.extract_text()\n",
    "    lines = page_text.splitlines()\n",
    "    page_text = \"\\n\".join([line for line in lines if len(line.split()) > line_min_length])  # only take lines that are larger than k\n",
    "    page_text = re.sub(r'E L T[\\W\\w]*\\n', ' ', page_text)  # E L T pattern removed.  used in the pdf for tables\n",
    "    page_text = re.sub(r'[\\n]|[  ]|[• ]', ' ', page_text)  # Remove line breaks, double spaces, and dots\n",
    "    page_text = re.sub(r'(?!\\.)  (?!\\.)', ' ', page_text)  # Remove double spaces in between letters\n",
    "    sentences = page_text.split('.')  # break into sentences\n",
    "    sentences = [sentence.strip() + \".\" for sentence in sentences if len(sentence) > 1]  # re-add \".\" to the end of the sentence\n",
    "    for sentence_index, sentence in enumerate(sentences):\n",
    "        sentences_tuples.append((build_key(page_index, sentence_index, name_in_key), sentence, page_index, sentence_index))\n",
    "    return sentences_tuples"
   ]
  },
  {
   "cell_type": "code",
   "execution_count": 6,
   "id": "6c3f1f76-76d6-48fd-bb0f-d7647fc63698",
   "metadata": {
    "tags": []
   },
   "outputs": [],
   "source": [
    "def pdf_to_document_tuples(file_path, line_min_length=5, name_in_key=None):\n",
    "    sentences_tuples = []\n",
    "    \n",
    "    pdf_reader = PdfReader(file_path)\n",
    "    pages = pdf_reader.pages\n",
    "    for page_index, page in tqdm(enumerate(pages)):\n",
    "        new_tuples = tokenize_page_to_sentences(page, page_index, line_min_length, name_in_key=name_in_key)\n",
    "        for t in new_tuples:\n",
    "            sentences_tuples.append(t)\n",
    "        \n",
    "    return sentences_tuples"
   ]
  },
  {
   "cell_type": "code",
   "execution_count": 7,
   "id": "d5a62d09-f8dc-4352-8a2c-2c41aec11e4e",
   "metadata": {},
   "outputs": [],
   "source": [
    "def get_column_from_tuples(tuples_list, column_index):\n",
    "    return [tuples[column_index] for tuples in tuples_list]"
   ]
  },
  {
   "cell_type": "code",
   "execution_count": 8,
   "id": "0b5c8639-5fe1-4cba-8732-d1e9f9b8531f",
   "metadata": {
    "tags": []
   },
   "outputs": [],
   "source": [
    "def vectorize_pdfs_in_directory_to_chroma(directory_path, collection):\n",
    "    files = get_file_list(directory_path)\n",
    "    \n",
    "    for file in tqdm(files):\n",
    "        # Get all documents in directory, tokenize them into sentences for embedding\n",
    "        document_tuples = pdf_to_document_tuples(os.path.join(directory_path,file), name_in_key=file)\n",
    "        # I pass a tuple for the extra metadata.  This used to be in the id of the call and required additional parsing after query.\n",
    "        document_keys = get_column_from_tuples(document_tuples, 0)\n",
    "        document_sentences = get_column_from_tuples(document_tuples, 1)\n",
    "        document_page_index = get_column_from_tuples(document_tuples, 2)\n",
    "        document_sentence_index = get_column_from_tuples(document_tuples, 3)\n",
    "        # Create metadata\n",
    "        metadata = [{\"file_name\":file, \"page_index\":document_page_index[i], \"sentence_index\":document_sentence_index[i]} for i in range(len(document_page_index))]\n",
    "        # Add to chroma collection\n",
    "        collection.add(documents=document_sentences, metadatas=metadata, ids=document_keys)"
   ]
  },
  {
   "cell_type": "markdown",
   "id": "1c52fea6-6b1e-4532-a402-8846d6907d9e",
   "metadata": {},
   "source": [
    "# Embedding to chroma."
   ]
  },
  {
   "cell_type": "code",
   "execution_count": 10,
   "id": "44929ae6-f32c-4082-998d-c59c9378dfaf",
   "metadata": {
    "tags": []
   },
   "outputs": [
    {
     "name": "stderr",
     "output_type": "stream",
     "text": [
      "No embedding_function provided, using default embedding function: SentenceTransformerEmbeddingFunction\n"
     ]
    },
    {
     "data": {
      "application/vnd.jupyter.widget-view+json": {
       "model_id": "f5151e321d0b45f2b7cb954c257ed3c0",
       "version_major": 2,
       "version_minor": 0
      },
      "text/plain": [
       "  0%|          | 0/4 [00:00<?, ?it/s]"
      ]
     },
     "metadata": {},
     "output_type": "display_data"
    },
    {
     "data": {
      "application/vnd.jupyter.widget-view+json": {
       "model_id": "5fcea11775e04959a02f2a1d653a08e5",
       "version_major": 2,
       "version_minor": 0
      },
      "text/plain": [
       "0it [00:00, ?it/s]"
      ]
     },
     "metadata": {},
     "output_type": "display_data"
    },
    {
     "data": {
      "application/vnd.jupyter.widget-view+json": {
       "model_id": "157ab748620f42b0bf6cbc73510e01f0",
       "version_major": 2,
       "version_minor": 0
      },
      "text/plain": [
       "0it [00:00, ?it/s]"
      ]
     },
     "metadata": {},
     "output_type": "display_data"
    },
    {
     "data": {
      "application/vnd.jupyter.widget-view+json": {
       "model_id": "229cc03f86724c9f9cca3b54ae4579d2",
       "version_major": 2,
       "version_minor": 0
      },
      "text/plain": [
       "0it [00:00, ?it/s]"
      ]
     },
     "metadata": {},
     "output_type": "display_data"
    },
    {
     "data": {
      "application/vnd.jupyter.widget-view+json": {
       "model_id": "933287be17e5476e8bf4f0a20ec1f308",
       "version_major": 2,
       "version_minor": 0
      },
      "text/plain": [
       "0it [00:00, ?it/s]"
      ]
     },
     "metadata": {},
     "output_type": "display_data"
    }
   ],
   "source": [
    "# Take all documents in a directory and add it to the chroma vector database\n",
    "collection = client.get_or_create_collection(collection_name)\n",
    "vectorize_pdfs_in_directory_to_chroma(pdf_directory, collection)"
   ]
  },
  {
   "cell_type": "markdown",
   "id": "7e7bace8-09b2-4e2f-9ae1-6effd42eafcb",
   "metadata": {},
   "source": [
    "# Chatbot Helper Functions"
   ]
  },
  {
   "cell_type": "code",
   "execution_count": 12,
   "id": "6127f536-9113-442f-b7df-ed068e01529f",
   "metadata": {
    "tags": []
   },
   "outputs": [],
   "source": [
    "#results = index.query(vector=[0 for i in range(1536)], top_k=1000)\n",
    "#print(results)\n",
    "#index.delete([x[\"id\"] for x in results[\"matches\"]])"
   ]
  },
  {
   "cell_type": "code",
   "execution_count": 13,
   "id": "5277bf22-0252-45f4-944d-5554483383cd",
   "metadata": {
    "tags": []
   },
   "outputs": [],
   "source": [
    "def create_metadata(content, user, vector):\n",
    "    create_time = time.time()\n",
    "    return {\n",
    "        \"Timestamp\": create_time,\n",
    "        \"User\": \"User\",\n",
    "        \"Message\": content,\n",
    "        \"Vector\": vector\n",
    "    }"
   ]
  },
  {
   "cell_type": "code",
   "execution_count": 14,
   "id": "b4141377-ad3d-4439-8257-f639014fb763",
   "metadata": {
    "tags": []
   },
   "outputs": [],
   "source": [
    "def create_message_hash(content):\n",
    "    return str(hash(content))"
   ]
  },
  {
   "cell_type": "code",
   "execution_count": 15,
   "id": "7f19c3e6-3dfd-452b-98cd-8a03aba8968e",
   "metadata": {
    "tags": []
   },
   "outputs": [],
   "source": [
    "def get_openai_embeddings(content, engine=\"text-embedding-ada-002\"):\n",
    "    content = content.encode(encoding=\"ASCII\", errors=\"ignore\").decode()  # fix unicode errors\n",
    "    response = openai.Embedding.create(input=content, engine=engine)\n",
    "    vector = response['data'][0]['embedding']\n",
    "    return vector"
   ]
  },
  {
   "cell_type": "code",
   "execution_count": 16,
   "id": "aa721f93-1fc5-4aff-9fc7-d48f03abe7db",
   "metadata": {
    "tags": []
   },
   "outputs": [],
   "source": [
    "def openai_completion(prompt, model=\"text-davinci-003\", temperature=0, top_p=1.0, max_tokens=400, freq_pen=0.0, pres_pen=0.0, max_retry=5):\n",
    "        retry = 0\n",
    "        prompt = prompt.encode(encoding=\"ASCII\", errors=\"ignore\").decode()\n",
    "        while True:\n",
    "            try:\n",
    "                response = openai.Completion.create(\n",
    "                    model=model,\n",
    "                    prompt=prompt,\n",
    "                    temperature=temperature,\n",
    "                    max_tokens=max_tokens,\n",
    "                    top_p=top_p,\n",
    "                    frequency_penalty=freq_pen,\n",
    "                    presence_penalty=pres_pen\n",
    "                )\n",
    "                text = response[\"choices\"][0][\"text\"].strip()\n",
    "                text = re.sub(r'[\\r\\n]+', \"\\n\", text)\n",
    "                text = re.sub(r'[\\t]+', \" \", text)\n",
    "                return text\n",
    "                    \n",
    "            except Exception as e:\n",
    "                retry += 1\n",
    "                if retry >= max_retry:\n",
    "                    return f\"GPT3 error: {e}\"\n",
    "                print(\"Error in communication with openai.\")\n",
    "                time.sleep(1)"
   ]
  },
  {
   "cell_type": "code",
   "execution_count": 17,
   "id": "0946ba28-045c-4f71-8804-115b9da6970c",
   "metadata": {},
   "outputs": [],
   "source": [
    "def load_json(filepath):\n",
    "    with open(filepath, \"r\", encoding=\"utf-8\") as open_file:\n",
    "        return json.load(open_file)"
   ]
  },
  {
   "cell_type": "code",
   "execution_count": 18,
   "id": "fe6e7ca1-83e8-4abd-abe4-3cbf3c65b79f",
   "metadata": {
    "tags": []
   },
   "outputs": [],
   "source": [
    "def load_conversation(results):\n",
    "    result = list()\n",
    "    for m in results[\"matches\"]:\n",
    "        if m['id'] == \"GPT3 error: Unrecognized request argument supplied: stops\": # For some reason pinecone will not remove this from the database\n",
    "            continue\n",
    "        info = load_json(f'./logs/{m[\"id\"]}.json')\n",
    "        result.append(info)\n",
    "    ordered = sorted(result, key=lambda d: d['Timestamp'], reverse=False)\n",
    "    messages = [i[\"Message\"] for i in ordered]\n",
    "    return \"\\n\".join(messages).strip()"
   ]
  },
  {
   "cell_type": "code",
   "execution_count": 19,
   "id": "4d1b13f5-e602-4e5e-b82b-2d8d80f1b97f",
   "metadata": {
    "tags": []
   },
   "outputs": [],
   "source": [
    "def get_prompt(file_name):\n",
    "    with open(file_name) as open_file:\n",
    "        return open_file.read()"
   ]
  },
  {
   "cell_type": "code",
   "execution_count": 20,
   "id": "b2111b79-af9c-43ba-b9bf-2f14e77a8cc5",
   "metadata": {
    "tags": []
   },
   "outputs": [],
   "source": [
    "def save_json(filepath, content):\n",
    "    with open(filepath + \".json\", \"w+\") as f:\n",
    "        json.dump(content, f)"
   ]
  },
  {
   "cell_type": "code",
   "execution_count": 21,
   "id": "e8b2d4dc-3e33-4d03-8493-9f4f118d3c01",
   "metadata": {},
   "outputs": [],
   "source": [
    "def build_key(page_index, sentence_index, prefix=None):\n",
    "    if prefix is not None:\n",
    "        return prefix + \"_p\" + str(page_index) + \"_s\" + str(sentence_index)\n",
    "    else:\n",
    "        return \"p\" + str(page_index) + \"_s\" + str(sentence_index)"
   ]
  },
  {
   "cell_type": "code",
   "execution_count": 22,
   "id": "37210cdb-eb86-4697-92a0-c5065b1b7a3e",
   "metadata": {},
   "outputs": [],
   "source": [
    "def load_page(directory_path, file_name, page_number):\n",
    "    pdf_reader = PdfReader(os.path.join(directory_path, file_path))\n",
    "    return pdf_reader.pages[page_number]"
   ]
  },
  {
   "cell_type": "code",
   "execution_count": 29,
   "id": "5a0b714a-c66a-4a53-ac0d-a0796e95ba7f",
   "metadata": {},
   "outputs": [],
   "source": [
    "def get_close_sentences(directory_path, file_name, page_number, sentence_number, buffer_size=1):\n",
    "    pdf_reader = PdfReader(os.path.join(directory_path, file_name))\n",
    "    page = pdf_reader.pages[page_number]\n",
    "    sentences_tuples = tokenize_page_to_sentences(page, page_number)\n",
    "    \n",
    "    if sentence_number + buffer_size + 1 >= len(sentences_tuples):\n",
    "        next_page = pdf_reader.pages[page_number + 1]\n",
    "        next_sentence_tuples = tokenize_page_to_sentences(next_page, page_number + 1)\n",
    "        for index in range(buffer_size):\n",
    "            sentences_tuples.append(next_sentence_tuples[index])\n",
    "            \n",
    "    if sentence_number - buffer_size <= 0:\n",
    "        previous_page = pdf_reader.pages[page_number - 1]\n",
    "        previous_sentence_tuples = tokenize_page_to_sentences(previous_page, page_number - 1)\n",
    "        for index in range(buffer_size):\n",
    "            sentences_tuples.insert(0, previous_sentence_tuples[len(previous_sentence_tuples) - buffer_size - 1 + index])\n",
    "    \n",
    "    return sentences_tuples[sentence_number-buffer_size:sentence_number+buffer_size+1]"
   ]
  },
  {
   "cell_type": "code",
   "execution_count": 24,
   "id": "3b8fc86b-6d15-45a2-ae17-1951a6333399",
   "metadata": {},
   "outputs": [],
   "source": [
    "def gather_close_context(directory_path, collection_query):\n",
    "    close_context = list()\n",
    "    for index in range(len(collection_query[\"ids\"][0])):\n",
    "        sentence = collection_query[\"documents\"][0][index]\n",
    "        metadata = collection_query[\"metadatas\"][0][index]\n",
    "        file_name = collection_query[\"metadatas\"][0][index][\"file_name\"]\n",
    "        page_number = collection_query[\"metadatas\"][0][index][\"page_index\"]\n",
    "        sentence_number = collection_query[\"metadatas\"][0][index][\"sentence_index\"]\n",
    "        close_sentences = get_close_sentences(directory_path, file_name, page_number, sentence_number, buffer_size=1)\n",
    "        close_sentences = \"  \".join([sentence[1] for sentence in close_sentences])\n",
    "        close_context.append(close_sentences)\n",
    "    return \"\\n\".join(close_context)"
   ]
  },
  {
   "cell_type": "markdown",
   "id": "806696b8-fee5-4f95-ad7c-e81d7006bf3c",
   "metadata": {},
   "source": [
    "# Prompting\n",
    "\n",
    "Here is the interesting part of the bot.  This prompt below can be changed to fit your needs and used to create chatbots that will answer specific questions."
   ]
  },
  {
   "cell_type": "code",
   "execution_count": 25,
   "id": "3d7550b5-e508-4035-98d7-95918d162458",
   "metadata": {
    "tags": []
   },
   "outputs": [
    {
     "data": {
      "text/plain": [
       "'The Rule Lich: I am a chatbot named The Rule Lich.  My goals are to help you make the right choice in the Table Top Role-Playing games.  I will read the recent messages and then I will provide a long, detailed answer, using the additional information from the books.\\n\\nADDITIONAL BOOK INFORMATION:\\n\\n<ADDITIONAL_INFORMATION>\\n\\nPREVIOUS CONVERSATION:\\n\\n<PREVIOUS_CONVERSATION>\\n\\nUSER: <MESSAGE>\\n\\n\\n\\n'"
      ]
     },
     "execution_count": 25,
     "metadata": {},
     "output_type": "execute_result"
    }
   ],
   "source": [
    "get_prompt(\"prompt.txt\")"
   ]
  },
  {
   "cell_type": "markdown",
   "id": "82a6409f-be38-47ac-9611-36a234b62964",
   "metadata": {},
   "source": [
    "# Running the bot"
   ]
  },
  {
   "cell_type": "code",
   "execution_count": 30,
   "id": "594352d5-f9f4-47ea-ac97-e28a758417cf",
   "metadata": {
    "tags": []
   },
   "outputs": [
    {
     "name": "stdout",
     "output_type": "stream",
     "text": [
      "Welcome to the TTRPG chatbot.  Ask a ruling here!\n"
     ]
    },
    {
     "name": "stdin",
     "output_type": "stream",
     "text": [
      "\n",
      "\n",
      " USER:  I am playing pathifnder 2e, does that change anything?\n"
     ]
    },
    {
     "name": "stdout",
     "output_type": "stream",
     "text": [
      "The Rule Lich: I am a chatbot named The Rule Lich.  My goals are to help you make the right choice in the Table Top Role-Playing games.  I will read the recent messages and then I will provide a long, detailed answer, using the additional information from the books.\n",
      "\n",
      "ADDITIONAL BOOK INFORMATION:\n",
      "\n",
      "Or perhaps you’re a brand new GM and looking for guidance to feel comfortable leading a game of your own.  Maybe you’ve been a Game Master for years, but this is your first time running a Pathfinder game.  No matter where you are as a Game Master, this book is a valuable tool that can help you tell the stories you want to tell with your players.\n",
      "The rules for conditions are summarized on page 454 and described in full on pages 618–623.  Anything you do in the game has an effect.  Many of these outcomes are easy to adjudicate during the game.\n",
      "The role of Game Master comes with the responsibility of ensuring you and the rest of the players have a rewarding, fun time during the game.  Games can deal with difficult subjects and have stressful moments, but fundamentally Pathfinder is a leisure activity.  It can remain so only if the players follow the social contract and respect one another.\n",
      "\n",
      "PREVIOUS CONVERSATION:\n",
      "\n",
      "I rolled a nat 20 on a strike.  Does this count as a critical hit?\n",
      "The Rule Lich: Yes, it does. A natural 20 on a Strike roll is considered a critical hit. This means that the target takes double damage and suffers a 10-foot speed penalty for one round. Additionally, if you are using the Dagger of Eternal Sleep, you can use the critical hit to activate its special ability, which will put the target into an unconscious state.\n",
      "I rolled a nat 20.  Does that count as a critical strike?\n",
      "The Rule Lich: Yes, it does. A natural 20 on a Strike roll is considered a critical hit. This means that the target takes double damage and suffers a 10-foot speed penalty for one round. Additionally, if you are using the Dagger of Eternal Sleep, you can use the critical hit to activate its special ability, which will put the target into an unconscious state. Additionally, each target that takes damage from this ammunition also takes 1d6 persistent bleed damage. If your attack roll result is a natural 20, you improve your degree of success only against the first target in the line, but you can still score a critical hit on other targets if your result exceeds their AC by 10 or more. If you have access to your bows critical specialization effect, penetrating ammunition applies that effect only against a target in the last square of the line. You also gain a +1 status bonus to attack rolls and skill checks. If an enemy within 20 feet critically succeeds at an attack roll or skill check, your status bonus increases to +3 attack rolls or that specific skill check (whichever the foe critically succeeded at) for 1 round. Heightened (7th) Increase the base bonus to +2 and the increased bonus after an enemy critically succeeds to +4.\n",
      "\n",
      "USER: I am playing pathifnder 2e, does that change anything?\n",
      "\n",
      "\n",
      "\n",
      "\n",
      "\n",
      " The Rule Lich: No, the rules for Pathfinder 2e are largely the same as for the original Pathfinder game. However, there are some differences, such as the addition of conditions, which are summarized on page 454 and described in full on pages 618623. Additionally, the Game Master has the responsibility of ensuring that everyone has a rewarding and fun time during the game, and should follow the social contract and respect one another.\n"
     ]
    },
    {
     "name": "stdin",
     "output_type": "stream",
     "text": [
      "\n",
      "\n",
      " USER:  what about if I was playing in d20 moderen\n"
     ]
    },
    {
     "name": "stdout",
     "output_type": "stream",
     "text": [
      "The Rule Lich: I am a chatbot named The Rule Lich.  My goals are to help you make the right choice in the Table Top Role-Playing games.  I will read the recent messages and then I will provide a long, detailed answer, using the additional information from the books.\n",
      "\n",
      "ADDITIONAL BOOK INFORMATION:\n",
      "\n",
      "457–458 d4, d6, d8, d10, d12, d20, and d% Notations for different sizes of dice.  “d20” is a daily preparations During your morning preparations, you ready your gear, prepare spells, and otherwise get ready for your adventuring day.  480, 500 damage Damage dealt to a creature reduces that creature’s Hit Points on a 1-to-1 basis.\n",
      "Add up all the various modifiers, bonuses, and penalties you identified in Step 1—this is your total modifier.  Next add that to the number that came up on your d20 roll.  This total is your check result.\n",
      "You might use either the Society skill or a Lore skill you have that’s relevant to the task, and the DC depends on how common the knowledge of the cousin’s name might be, or how many drinks your character had when they were introduced to the cousin the night before.  No matter the details, for any check you must roll the d20 and achieve a result equal to or greater than the DC to succeed.  Each of these steps is explained below.\n",
      "\n",
      "PREVIOUS CONVERSATION:\n",
      "\n",
      "I rolled a nat 20 on a strike.  Does this count as a critical hit?\n",
      "The Rule Lich: Yes, it does. A natural 20 on a Strike roll is considered a critical hit. This means that the target takes double damage and suffers a 10-foot speed penalty for one round. Additionally, if you are using the Dagger of Eternal Sleep, you can use the critical hit to activate its special ability, which will put the target into an unconscious state.\n",
      "I rolled a nat 20.  Does that count as a critical strike?\n",
      "The Rule Lich: Yes, it does. A natural 20 on a Strike roll is considered a critical hit. This means that the target takes double damage and suffers a 10-foot speed penalty for one round. Additionally, if you are using the Dagger of Eternal Sleep, you can use the critical hit to activate its special ability, which will put the target into an unconscious state. Additionally, each target that takes damage from this ammunition also takes 1d6 persistent bleed damage. If your attack roll result is a natural 20, you improve your degree of success only against the first target in the line, but you can still score a critical hit on other targets if your result exceeds their AC by 10 or more. If you have access to your bows critical specialization effect, penetrating ammunition applies that effect only against a target in the last square of the line. You also gain a +1 status bonus to attack rolls and skill checks. If an enemy within 20 feet critically succeeds at an attack roll or skill check, your status bonus increases to +3 attack rolls or that specific skill check (whichever the foe critically succeeded at) for 1 round. Heightened (7th) Increase the base bonus to +2 and the increased bonus after an enemy critically succeeds to +4.\n",
      "I am playing pathifnder 2e, does that change anything?\n",
      "The Rule Lich: No, the rules for Pathfinder 2e are largely the same as for the original Pathfinder game. However, there are some differences, such as the addition of conditions, which are summarized on page 454 and described in full on pages 618623. Additionally, the Game Master has the responsibility of ensuring that everyone has a rewarding and fun time during the game, and should follow the social contract and respect one another.\n",
      "\n",
      "USER: what about if I was playing in d20 moderen\n",
      "\n",
      "\n",
      "\n",
      "\n",
      "\n",
      " The Rule Lich: In d20 Modern, the rules are slightly different than in Pathfinder 2e. For example, the d20 Modern system uses a d20 roll to determine success or failure on a task, rather than the d20 roll plus modifiers used in Pathfinder 2e. Additionally, the d20 Modern system uses a different set of conditions, such as shaken, fatigued, and exhausted, which are summarized on page 454 and described in full on pages 618623. Additionally, the Game Master has the responsibility of ensuring that everyone has a rewarding and fun time during the game, and should follow the social contract and respect one another.\n"
     ]
    },
    {
     "name": "stdin",
     "output_type": "stream",
     "text": [
      "\n",
      "\n",
      " USER:  ok.  do you know anything about the fallout ttrpg?\n"
     ]
    },
    {
     "name": "stdout",
     "output_type": "stream",
     "text": [
      "The Rule Lich: I am a chatbot named The Rule Lich.  My goals are to help you make the right choice in the Table Top Role-Playing games.  I will read the recent messages and then I will provide a long, detailed answer, using the additional information from the books.\n",
      "\n",
      "ADDITIONAL BOOK INFORMATION:\n",
      "\n",
      "While raging, the badger is affected in the following ways.  It deals 4 additional damage with its bite a ttacks and 2 additional damage with its claw attacks.  It takes a – 1 penalty to AC.\n",
      "Since then, individual pieces have turned up throughout the multiverse.  When you pick up a shot of the First Vault , it immediately reshapes itself to function with any ranged weapon and establishes you as its owner until another creature picks it up.  As its owner, you can use the shot’s  single ‑action activation after shooting it.\n",
      "Activate [three-actions] Interact; Requirements The shot is loaded in your ranged weapon, or at hand if your ranged weapon has a reload of 0; Effect You line up a perfectly aimed attack directly toward the First Vault.  You Strike a creature, then the shot of the First Vault attempts to bring your target with it as it returns to the First Vault.  Unless your attack roll is a critical failure, the creature must attempt a DC 45 Reflex save; this effect has the incapacitation trait.\n",
      "\n",
      "PREVIOUS CONVERSATION:\n",
      "\n",
      "I rolled a nat 20 on a strike.  Does this count as a critical hit?\n",
      "The Rule Lich: Yes, it does. A natural 20 on a Strike roll is considered a critical hit. This means that the target takes double damage and suffers a 10-foot speed penalty for one round. Additionally, if you are using the Dagger of Eternal Sleep, you can use the critical hit to activate its special ability, which will put the target into an unconscious state.\n",
      "I rolled a nat 20.  Does that count as a critical strike?\n",
      "The Rule Lich: Yes, it does. A natural 20 on a Strike roll is considered a critical hit. This means that the target takes double damage and suffers a 10-foot speed penalty for one round. Additionally, if you are using the Dagger of Eternal Sleep, you can use the critical hit to activate its special ability, which will put the target into an unconscious state. Additionally, each target that takes damage from this ammunition also takes 1d6 persistent bleed damage. If your attack roll result is a natural 20, you improve your degree of success only against the first target in the line, but you can still score a critical hit on other targets if your result exceeds their AC by 10 or more. If you have access to your bows critical specialization effect, penetrating ammunition applies that effect only against a target in the last square of the line. You also gain a +1 status bonus to attack rolls and skill checks. If an enemy within 20 feet critically succeeds at an attack roll or skill check, your status bonus increases to +3 attack rolls or that specific skill check (whichever the foe critically succeeded at) for 1 round. Heightened (7th) Increase the base bonus to +2 and the increased bonus after an enemy critically succeeds to +4.\n",
      "I am playing pathifnder 2e, does that change anything?\n",
      "The Rule Lich: No, the rules for Pathfinder 2e are largely the same as for the original Pathfinder game. However, there are some differences, such as the addition of conditions, which are summarized on page 454 and described in full on pages 618623. Additionally, the Game Master has the responsibility of ensuring that everyone has a rewarding and fun time during the game, and should follow the social contract and respect one another.\n",
      "what about if I was playing in d20 moderen\n",
      "The Rule Lich: In d20 Modern, the rules are slightly different than in Pathfinder 2e. For example, the d20 Modern system uses a d20 roll to determine success or failure on a task, rather than the d20 roll plus modifiers used in Pathfinder 2e. Additionally, the d20 Modern system uses a different set of conditions, such as shaken, fatigued, and exhausted, which are summarized on page 454 and described in full on pages 618623. Additionally, the Game Master has the responsibility of ensuring that everyone has a rewarding and fun time during the game, and should follow the social contract and respect one another.\n",
      "\n",
      "USER: ok.  do you know anything about the fallout ttrpg?\n",
      "\n",
      "\n",
      "\n",
      "\n",
      "\n",
      " The Rule Lich: Yes, I am familiar with the Fallout Table Top Role-Playing Game (TTRPG). In this game, players take on the role of survivors in a post-apocalyptic world, where they must scavenge for resources, build settlements, and fight off raiders and other threats. The game uses a modified version of the d20 system, and includes rules for character creation, combat, and exploration. Additionally, the game includes a variety of special rules, such as radiation, mutations, and the use of special weapons and armor.\n"
     ]
    },
    {
     "ename": "KeyboardInterrupt",
     "evalue": "Interrupted by user",
     "output_type": "error",
     "traceback": [
      "\u001b[1;31m---------------------------------------------------------------------------\u001b[0m",
      "\u001b[1;31mKeyboardInterrupt\u001b[0m                         Traceback (most recent call last)",
      "Input \u001b[1;32mIn [30]\u001b[0m, in \u001b[0;36m<cell line: 11>\u001b[1;34m()\u001b[0m\n\u001b[0;32m     11\u001b[0m payload \u001b[38;5;241m=\u001b[39m \u001b[38;5;28mlist\u001b[39m()\n\u001b[0;32m     13\u001b[0m \u001b[38;5;66;03m# Message Meta\u001b[39;00m\n\u001b[1;32m---> 14\u001b[0m message \u001b[38;5;241m=\u001b[39m \u001b[38;5;28;43minput\u001b[39;49m\u001b[43m(\u001b[49m\u001b[38;5;124;43m\"\u001b[39;49m\u001b[38;5;130;43;01m\\n\u001b[39;49;00m\u001b[38;5;130;43;01m\\n\u001b[39;49;00m\u001b[38;5;124;43m USER: \u001b[39;49m\u001b[38;5;124;43m\"\u001b[39;49m\u001b[43m)\u001b[49m\n\u001b[0;32m     15\u001b[0m message_hash \u001b[38;5;241m=\u001b[39m create_message_hash(message)\n\u001b[0;32m     17\u001b[0m \u001b[38;5;66;03m# Create embedding of new message\u001b[39;00m\n",
      "File \u001b[1;32m~\\AppData\\Local\\Packages\\PythonSoftwareFoundation.Python.3.9_qbz5n2kfra8p0\\LocalCache\\local-packages\\Python39\\site-packages\\ipykernel\\kernelbase.py:1177\u001b[0m, in \u001b[0;36mKernel.raw_input\u001b[1;34m(self, prompt)\u001b[0m\n\u001b[0;32m   1173\u001b[0m \u001b[38;5;28;01mif\u001b[39;00m \u001b[38;5;129;01mnot\u001b[39;00m \u001b[38;5;28mself\u001b[39m\u001b[38;5;241m.\u001b[39m_allow_stdin:\n\u001b[0;32m   1174\u001b[0m     \u001b[38;5;28;01mraise\u001b[39;00m StdinNotImplementedError(\n\u001b[0;32m   1175\u001b[0m         \u001b[38;5;124m\"\u001b[39m\u001b[38;5;124mraw_input was called, but this frontend does not support input requests.\u001b[39m\u001b[38;5;124m\"\u001b[39m\n\u001b[0;32m   1176\u001b[0m     )\n\u001b[1;32m-> 1177\u001b[0m \u001b[38;5;28;01mreturn\u001b[39;00m \u001b[38;5;28;43mself\u001b[39;49m\u001b[38;5;241;43m.\u001b[39;49m\u001b[43m_input_request\u001b[49m\u001b[43m(\u001b[49m\n\u001b[0;32m   1178\u001b[0m \u001b[43m    \u001b[49m\u001b[38;5;28;43mstr\u001b[39;49m\u001b[43m(\u001b[49m\u001b[43mprompt\u001b[49m\u001b[43m)\u001b[49m\u001b[43m,\u001b[49m\n\u001b[0;32m   1179\u001b[0m \u001b[43m    \u001b[49m\u001b[38;5;28;43mself\u001b[39;49m\u001b[38;5;241;43m.\u001b[39;49m\u001b[43m_parent_ident\u001b[49m\u001b[43m[\u001b[49m\u001b[38;5;124;43m\"\u001b[39;49m\u001b[38;5;124;43mshell\u001b[39;49m\u001b[38;5;124;43m\"\u001b[39;49m\u001b[43m]\u001b[49m\u001b[43m,\u001b[49m\n\u001b[0;32m   1180\u001b[0m \u001b[43m    \u001b[49m\u001b[38;5;28;43mself\u001b[39;49m\u001b[38;5;241;43m.\u001b[39;49m\u001b[43mget_parent\u001b[49m\u001b[43m(\u001b[49m\u001b[38;5;124;43m\"\u001b[39;49m\u001b[38;5;124;43mshell\u001b[39;49m\u001b[38;5;124;43m\"\u001b[39;49m\u001b[43m)\u001b[49m\u001b[43m,\u001b[49m\n\u001b[0;32m   1181\u001b[0m \u001b[43m    \u001b[49m\u001b[43mpassword\u001b[49m\u001b[38;5;241;43m=\u001b[39;49m\u001b[38;5;28;43;01mFalse\u001b[39;49;00m\u001b[43m,\u001b[49m\n\u001b[0;32m   1182\u001b[0m \u001b[43m\u001b[49m\u001b[43m)\u001b[49m\n",
      "File \u001b[1;32m~\\AppData\\Local\\Packages\\PythonSoftwareFoundation.Python.3.9_qbz5n2kfra8p0\\LocalCache\\local-packages\\Python39\\site-packages\\ipykernel\\kernelbase.py:1219\u001b[0m, in \u001b[0;36mKernel._input_request\u001b[1;34m(self, prompt, ident, parent, password)\u001b[0m\n\u001b[0;32m   1216\u001b[0m             \u001b[38;5;28;01mbreak\u001b[39;00m\n\u001b[0;32m   1217\u001b[0m \u001b[38;5;28;01mexcept\u001b[39;00m \u001b[38;5;167;01mKeyboardInterrupt\u001b[39;00m:\n\u001b[0;32m   1218\u001b[0m     \u001b[38;5;66;03m# re-raise KeyboardInterrupt, to truncate traceback\u001b[39;00m\n\u001b[1;32m-> 1219\u001b[0m     \u001b[38;5;28;01mraise\u001b[39;00m \u001b[38;5;167;01mKeyboardInterrupt\u001b[39;00m(\u001b[38;5;124m\"\u001b[39m\u001b[38;5;124mInterrupted by user\u001b[39m\u001b[38;5;124m\"\u001b[39m) \u001b[38;5;28;01mfrom\u001b[39;00m \u001b[38;5;28mNone\u001b[39m\n\u001b[0;32m   1220\u001b[0m \u001b[38;5;28;01mexcept\u001b[39;00m \u001b[38;5;167;01mException\u001b[39;00m:\n\u001b[0;32m   1221\u001b[0m     \u001b[38;5;28mself\u001b[39m\u001b[38;5;241m.\u001b[39mlog\u001b[38;5;241m.\u001b[39mwarning(\u001b[38;5;124m\"\u001b[39m\u001b[38;5;124mInvalid Message:\u001b[39m\u001b[38;5;124m\"\u001b[39m, exc_info\u001b[38;5;241m=\u001b[39m\u001b[38;5;28;01mTrue\u001b[39;00m)\n",
      "\u001b[1;31mKeyboardInterrupt\u001b[0m: Interrupted by user"
     ]
    }
   ],
   "source": [
    "user = \"USER\"\n",
    "context_top_k = 3\n",
    "top_k = 15\n",
    "prompt_file = \"prompt.txt\"\n",
    "logs_path = \"./logs/\"\n",
    "pdf_directory = \"./pdfs/Rules\"\n",
    "\n",
    "print(\"Welcome to the TTRPG chatbot.  Ask a ruling here!\")\n",
    "while True:\n",
    "    payload = list()\n",
    "    \n",
    "    # Message Meta\n",
    "    message = input(\"\\n\\n USER: \")\n",
    "    message_hash = create_message_hash(message)\n",
    "\n",
    "    # Create embedding of new message\n",
    "    message_vector = get_openai_embeddings(message)\n",
    "    \n",
    "    # Save metadata about vector\n",
    "    metadata = create_metadata(message, user, message_vector)\n",
    "    save_json(logs_path + str(message_hash), metadata)\n",
    "    \n",
    "    # Append to payload for later indexing\n",
    "    # Send to Pinecone after gpt message\n",
    "    payload.append((message_hash, message_vector))\n",
    "    \n",
    "    # Query Chroma for additional rules from the books of the game\n",
    "    if collection is not None:\n",
    "        collection_query = collection.query(query_texts=[message], n_results=context_top_k)\n",
    "        close_context = gather_close_context(pdf_directory, collection_query)\n",
    "    else:\n",
    "        close_context = \"\"\n",
    "    \n",
    "    # Query Pinecone for additional information from your messages or the chatbots\n",
    "    results = index.query(vector=message_vector, top_k=top_k)\n",
    "    conversation = load_conversation(results)\n",
    "    prompt = get_prompt(prompt_file).replace(\"<PREVIOUS_CONVERSATION>\", conversation).replace(\"<MESSAGE>\", message).replace(\"<ADDITIONAL_INFORMATION>\", close_context)\n",
    "    # print(prompt)\n",
    "    \n",
    "    # Generate the response from the large lang model\n",
    "    output = openai_completion(prompt)\n",
    "    output_hash = create_message_hash(output)\n",
    "    \n",
    "    # Embed the output\n",
    "    output_vector = get_openai_embeddings(output)\n",
    "\n",
    "    # Save the output metadata\n",
    "    metadata = create_metadata(output, \"The Rule Lich\", output_vector)\n",
    "    save_json(logs_path + str(output_hash), metadata)\n",
    "    \n",
    "    # Append to the payload the response from gpt\n",
    "    payload.append((output_hash, output_vector))\n",
    "    \n",
    "    # Upsert to the pinecone database\n",
    "    index.upsert(payload)\n",
    "    \n",
    "    # Print responce to the message\n",
    "    print(f'\\n {output}')\n",
    "    "
   ]
  },
  {
   "cell_type": "code",
   "execution_count": null,
   "id": "ee2cc05f-bb73-4121-a591-8ec8631ed07a",
   "metadata": {},
   "outputs": [],
   "source": []
  }
 ],
 "metadata": {
  "kernelspec": {
   "display_name": "pinecone-chroma",
   "language": "python",
   "name": "pinecone-chroma"
  },
  "language_info": {
   "codemirror_mode": {
    "name": "ipython",
    "version": 3
   },
   "file_extension": ".py",
   "mimetype": "text/x-python",
   "name": "python",
   "nbconvert_exporter": "python",
   "pygments_lexer": "ipython3",
   "version": "3.9.13"
  }
 },
 "nbformat": 4,
 "nbformat_minor": 5
}
